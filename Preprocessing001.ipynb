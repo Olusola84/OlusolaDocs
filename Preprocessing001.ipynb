{
  "nbformat": 4,
  "nbformat_minor": 0,
  "metadata": {
    "colab": {
      "provenance": [],
      "mount_file_id": "1RVe5id1GwTu0UU7tXkzP8Ya_kfXWd5KW",
      "authorship_tag": "ABX9TyMMZo66w3p4jAYVK5e9jU1W",
      "include_colab_link": true
    },
    "kernelspec": {
      "name": "python3",
      "display_name": "Python 3"
    },
    "language_info": {
      "name": "python"
    }
  },
  "cells": [
    {
      "cell_type": "markdown",
      "metadata": {
        "id": "view-in-github",
        "colab_type": "text"
      },
      "source": [
        "<a href=\"https://colab.research.google.com/github/Olusola84/OlusolaDocs/blob/main/Preprocessing001.ipynb\" target=\"_parent\"><img src=\"https://colab.research.google.com/assets/colab-badge.svg\" alt=\"Open In Colab\"/></a>"
      ]
    },
    {
      "cell_type": "code",
      "execution_count": 1,
      "metadata": {
        "id": "dvdtxslwnqq9"
      },
      "outputs": [],
      "source": [
        "# Import necessary libraries\n",
        "import pandas as pd\n",
        "import re\n",
        "from sklearn.model_selection import train_test_split\n",
        "\n",
        "# Step 1: Load the Moses-format files (English and Yoruba)\n",
        "en_file_path = '/content/drive/MyDrive/PROJECT RESEARCH /en-yo.txt-files/wikimedia.en-yo.en'  # English sentences\n",
        "yo_file_path = '/content/drive/MyDrive/PROJECT RESEARCH /en-yo.txt-files/wikimedia.en-yo.yo'   # Yoruba sentences\n"
      ]
    },
    {
      "cell_type": "code",
      "source": [
        "# Open and read the files line by line\n",
        "with open(en_file_path, 'r', encoding='utf-8') as en_file:\n",
        "    en_sentences = en_file.readlines()"
      ],
      "metadata": {
        "id": "tGMXt5sIOaPB"
      },
      "execution_count": 2,
      "outputs": []
    },
    {
      "cell_type": "code",
      "source": [
        "with open(yo_file_path, 'r', encoding='utf-8') as yo_file:\n",
        "    yo_sentences = yo_file.readlines()"
      ],
      "metadata": {
        "id": "RnGgeCJJO2sP"
      },
      "execution_count": 4,
      "outputs": []
    },
    {
      "cell_type": "code",
      "source": [
        "# Step 2: Check that both files have the same number of sentences\n",
        "assert len(en_sentences) == len(yo_sentences), \"The number of lines in both files doesn't match!\""
      ],
      "metadata": {
        "id": "g_gQl8dPO_7P"
      },
      "execution_count": 5,
      "outputs": []
    },
    {
      "cell_type": "code",
      "source": [
        "print(\"Number of sentences in English:\", len(en_sentences))\n",
        "print(\"Number of sentences in Yoruba:\", len(yo_sentences))"
      ],
      "metadata": {
        "colab": {
          "base_uri": "https://localhost:8080/"
        },
        "id": "KdRDcbAQPmbJ",
        "outputId": "39e90ad0-46e8-4483-872f-c67848ca3413"
      },
      "execution_count": 7,
      "outputs": [
        {
          "output_type": "stream",
          "name": "stdout",
          "text": [
            "Number of sentences in English: 12478\n",
            "Number of sentences in Yoruba: 12478\n"
          ]
        }
      ]
    },
    {
      "cell_type": "code",
      "source": [
        "# Step 3: Create a DataFrame with the aligned sentences\n",
        "df = pd.DataFrame({'english': en_sentences, 'yoruba': yo_sentences})\n",
        "\n",
        "# Step 4: Format Conversion (remove newlines and strip whitespace)\n",
        "df['english'] = df['english'].str.strip()\n",
        "df['yoruba'] = df['yoruba'].str.strip()\n",
        "\n",
        "print(\"Data after loading and stripping whitespace:\")\n",
        "print(df.head())"
      ],
      "metadata": {
        "colab": {
          "base_uri": "https://localhost:8080/"
        },
        "id": "rFsjhLGIPBsk",
        "outputId": "42104063-b6d9-42ad-c239-aaa06ba18c91"
      },
      "execution_count": 6,
      "outputs": [
        {
          "output_type": "stream",
          "name": "stdout",
          "text": [
            "Data after loading and stripping whitespace:\n",
            "                                             english  \\\n",
            "0  Henrietta Ogan is a Nigerian Business administ...   \n",
            "1  She was succeeded by Ahmed Tijani Mora, a Phar...   \n",
            "2                                         References   \n",
            "3  Kola Oyewo (born March 26, 1946) is a Nigerian...   \n",
            "4                                         Early life   \n",
            "\n",
            "                                              yoruba  \n",
            "0  Henrietta Ogan jẹ́ alámójútó okùn òwò ...  \n",
            "1  Ó fi ipò yìí sílẹ̀ fún Ahmed Tijani Mor...  \n",
            "2                                 Àwọn ìtọ́kasí  \n",
            "3  '''Kola Oyewo''' (bìi 26 Oṣù kẹta 1946) jẹ́ òṣ...  \n",
            "4                                           Ìgbà èwe  \n"
          ]
        }
      ]
    },
    {
      "cell_type": "code",
      "source": [
        "# Now, you can save this DataFrame to a CSV file or continue with further preprocessing.\n",
        "df.to_csv('aligned_parallel_data.csv', index=False)\n",
        "\n",
        "# Step 5: Text Normalization (convert to lowercase, remove punctuation)\n",
        "def normalize_text(text):\n",
        "    text = text.lower()  # Convert to lowercase\n",
        "    text = re.sub(r'[^\\w\\s]', '', text)  # Remove punctuation\n",
        "    text = text.strip()  # Remove leading/trailing whitespace\n",
        "    return text\n",
        "\n",
        "df['english'] = df['english'].apply(normalize_text)\n",
        "df['yoruba'] = df['yoruba'].apply(normalize_text)\n",
        "\n",
        "print(\"\\nNormalized Data Sample:\")\n",
        "print(df.head())\n",
        "\n"
      ],
      "metadata": {
        "colab": {
          "base_uri": "https://localhost:8080/"
        },
        "id": "RSst31EFPK7u",
        "outputId": "17fd2e4f-4395-49c4-cd07-7d2da3f92d02"
      },
      "execution_count": 8,
      "outputs": [
        {
          "output_type": "stream",
          "name": "stdout",
          "text": [
            "\n",
            "Normalized Data Sample:\n",
            "                                             english  \\\n",
            "0  henrietta ogan is a nigerian business administ...   \n",
            "1  she was succeeded by ahmed tijani mora a pharm...   \n",
            "2                                         references   \n",
            "3  kola oyewo born march 26 1946 is a nigerian ve...   \n",
            "4                                         early life   \n",
            "\n",
            "                                              yoruba  \n",
            "0  henrietta ogan je alamojuto okun owo ti o si j...  \n",
            "1  o fi ipo yii sile fun ahmed tijani mora ogbont...  \n",
            "2                                       awon itokasi  \n",
            "3  kola oyewo bìi 26 oṣù kẹta 1946 jẹ òṣèré àti o...  \n",
            "4                                           ìgbà èwe  \n"
          ]
        }
      ]
    },
    {
      "cell_type": "code",
      "source": [
        "# Step 6: Tokenization (simple word-based tokenization)\n",
        "df['english_tokens'] = df['english'].apply(lambda x: x.split())\n",
        "df['yoruba_tokens'] = df['yoruba'].apply(lambda x: x.split())\n",
        "\n",
        "print(\"\\nTokenized Data Sample:\")\n",
        "print(df[['english_tokens', 'yoruba_tokens']].head())\n"
      ],
      "metadata": {
        "colab": {
          "base_uri": "https://localhost:8080/"
        },
        "id": "qdIIZxHjQKfc",
        "outputId": "21c5e2ed-6150-431d-f523-77fd797b0699"
      },
      "execution_count": 9,
      "outputs": [
        {
          "output_type": "stream",
          "name": "stdout",
          "text": [
            "\n",
            "Tokenized Data Sample:\n",
            "                                      english_tokens  \\\n",
            "0  [henrietta, ogan, is, a, nigerian, business, a...   \n",
            "1  [she, was, succeeded, by, ahmed, tijani, mora,...   \n",
            "2                                       [references]   \n",
            "3  [kola, oyewo, born, march, 26, 1946, is, a, ni...   \n",
            "4                                      [early, life]   \n",
            "\n",
            "                                       yoruba_tokens  \n",
            "0  [henrietta, ogan, je, alamojuto, okun, owo, ti...  \n",
            "1  [o, fi, ipo, yii, sile, fun, ahmed, tijani, mo...  \n",
            "2                                    [awon, itokasi]  \n",
            "3  [kola, oyewo, bìi, 26, oṣù, kẹta, 1946, jẹ, òṣ...  \n",
            "4                                        [ìgbà, èwe]  \n"
          ]
        }
      ]
    },
    {
      "cell_type": "code",
      "source": [
        "# Step 7: Cleaning (remove empty or incomplete sentence pairs)\n",
        "df_clean = df[(df['english'].str.len() > 0) & (df['yoruba'].str.len() > 0)]\n",
        "\n",
        "print(\"\\nCleaned Data Sample:\")\n",
        "print(df_clean.head())"
      ],
      "metadata": {
        "colab": {
          "base_uri": "https://localhost:8080/"
        },
        "id": "ibCM4JfwQTex",
        "outputId": "287e0c45-a76f-4dfb-ae9c-3911d1b52738"
      },
      "execution_count": 10,
      "outputs": [
        {
          "output_type": "stream",
          "name": "stdout",
          "text": [
            "\n",
            "Cleaned Data Sample:\n",
            "                                             english  \\\n",
            "0  henrietta ogan is a nigerian business administ...   \n",
            "1  she was succeeded by ahmed tijani mora a pharm...   \n",
            "2                                         references   \n",
            "3  kola oyewo born march 26 1946 is a nigerian ve...   \n",
            "4                                         early life   \n",
            "\n",
            "                                              yoruba  \\\n",
            "0  henrietta ogan je alamojuto okun owo ti o si j...   \n",
            "1  o fi ipo yii sile fun ahmed tijani mora ogbont...   \n",
            "2                                       awon itokasi   \n",
            "3  kola oyewo bìi 26 oṣù kẹta 1946 jẹ òṣèré àti o...   \n",
            "4                                           ìgbà èwe   \n",
            "\n",
            "                                      english_tokens  \\\n",
            "0  [henrietta, ogan, is, a, nigerian, business, a...   \n",
            "1  [she, was, succeeded, by, ahmed, tijani, mora,...   \n",
            "2                                       [references]   \n",
            "3  [kola, oyewo, born, march, 26, 1946, is, a, ni...   \n",
            "4                                      [early, life]   \n",
            "\n",
            "                                       yoruba_tokens  \n",
            "0  [henrietta, ogan, je, alamojuto, okun, owo, ti...  \n",
            "1  [o, fi, ipo, yii, sile, fun, ahmed, tijani, mo...  \n",
            "2                                    [awon, itokasi]  \n",
            "3  [kola, oyewo, bìi, 26, oṣù, kẹta, 1946, jẹ, òṣ...  \n",
            "4                                        [ìgbà, èwe]  \n"
          ]
        }
      ]
    },
    {
      "cell_type": "code",
      "source": [
        "# Step 8: Sentence Length Filtering (optional)\n",
        "MAX_LEN = 100\n",
        "df_clean = df_clean[df_clean['english_tokens'].apply(len) <= MAX_LEN]\n",
        "df_clean = df_clean[df_clean['yoruba_tokens'].apply(len) <= MAX_LEN]\n",
        "\n",
        "print(\"\\nFiltered Data Sample (by length):\")\n",
        "print(df_clean.head())"
      ],
      "metadata": {
        "colab": {
          "base_uri": "https://localhost:8080/"
        },
        "id": "ZNFbn8LoQS8M",
        "outputId": "20fe146f-fed2-4df4-e4f0-9797e573ec1b"
      },
      "execution_count": 11,
      "outputs": [
        {
          "output_type": "stream",
          "name": "stdout",
          "text": [
            "\n",
            "Filtered Data Sample (by length):\n",
            "                                             english  \\\n",
            "0  henrietta ogan is a nigerian business administ...   \n",
            "1  she was succeeded by ahmed tijani mora a pharm...   \n",
            "2                                         references   \n",
            "3  kola oyewo born march 26 1946 is a nigerian ve...   \n",
            "4                                         early life   \n",
            "\n",
            "                                              yoruba  \\\n",
            "0  henrietta ogan je alamojuto okun owo ti o si j...   \n",
            "1  o fi ipo yii sile fun ahmed tijani mora ogbont...   \n",
            "2                                       awon itokasi   \n",
            "3  kola oyewo bìi 26 oṣù kẹta 1946 jẹ òṣèré àti o...   \n",
            "4                                           ìgbà èwe   \n",
            "\n",
            "                                      english_tokens  \\\n",
            "0  [henrietta, ogan, is, a, nigerian, business, a...   \n",
            "1  [she, was, succeeded, by, ahmed, tijani, mora,...   \n",
            "2                                       [references]   \n",
            "3  [kola, oyewo, born, march, 26, 1946, is, a, ni...   \n",
            "4                                      [early, life]   \n",
            "\n",
            "                                       yoruba_tokens  \n",
            "0  [henrietta, ogan, je, alamojuto, okun, owo, ti...  \n",
            "1  [o, fi, ipo, yii, sile, fun, ahmed, tijani, mo...  \n",
            "2                                    [awon, itokasi]  \n",
            "3  [kola, oyewo, bìi, 26, oṣù, kẹta, 1946, jẹ, òṣ...  \n",
            "4                                        [ìgbà, èwe]  \n"
          ]
        }
      ]
    },
    {
      "cell_type": "code",
      "source": [
        "print(\"Number of cleaned sentences with Max of 100 words lenght in English:\", len(df_clean))\n",
        "print(\"Number of cleaned sentences with Max of 100 words lenght in Yoruba: \",  len(df_clean))"
      ],
      "metadata": {
        "colab": {
          "base_uri": "https://localhost:8080/"
        },
        "id": "NhbIzBUDQSpS",
        "outputId": "e632d054-3b86-4b23-cc37-37988c9a7a68"
      },
      "execution_count": 16,
      "outputs": [
        {
          "output_type": "stream",
          "name": "stdout",
          "text": [
            "Number of cleaned sentences with Max of 100 words lenght in English: 12227\n",
            "Number of cleaned sentences with Max of 100 words lenght in Yoruba:  12227\n"
          ]
        }
      ]
    },
    {
      "cell_type": "code",
      "source": [
        "# Step 9: Split into training and validation sets\n",
        "train_df, val_df = train_test_split(df_clean, test_size=0.1, random_state=42)\n",
        "\n",
        "print(\"\\nTraining Data Sample:\")\n",
        "print(train_df.head())\n",
        "\n",
        "print(\"\\nValidation Data Sample:\")\n",
        "print(val_df.head())"
      ],
      "metadata": {
        "colab": {
          "base_uri": "https://localhost:8080/"
        },
        "id": "GuSIjeoYQuME",
        "outputId": "7c53c8d1-b6dc-4c13-baa3-d64a780287bc"
      },
      "execution_count": 17,
      "outputs": [
        {
          "output_type": "stream",
          "name": "stdout",
          "text": [
            "\n",
            "Training Data Sample:\n",
            "                                                english  \\\n",
            "9164  teams notes 1 spain 103569 4 2 england 85462 3...   \n",
            "8336  the title is currently within the gift of the ...   \n",
            "5204  this brought the total number of confirmed cas...   \n",
            "4632  because of his legal background and antecedent...   \n",
            "9902  on december 20 2020 he has signed with avtodor...   \n",
            "\n",
            "                                                 yoruba  \\\n",
            "9164  teams notes 1 spain 103569 4 2 england 85462 3...   \n",
            "8336  lóde òní àwọn ọba ló ń fi obìnrin joyè ìyálóde...   \n",
            "5204  eyi mu ki apapo iye awon isele ti won ti fidi ...   \n",
            "4632  gege bi ipinle re ninu imo ofin ati iriri re g...   \n",
            "9902  ni oṣu kejila ọgunjo ọdun 2020 o ti fowo si iw...   \n",
            "\n",
            "                                         english_tokens  \\\n",
            "9164  [teams, notes, 1, spain, 103569, 4, 2, england...   \n",
            "8336  [the, title, is, currently, within, the, gift,...   \n",
            "5204  [this, brought, the, total, number, of, confir...   \n",
            "4632  [because, of, his, legal, background, and, ant...   \n",
            "9902  [on, december, 20, 2020, he, has, signed, with...   \n",
            "\n",
            "                                          yoruba_tokens  \n",
            "9164  [teams, notes, 1, spain, 103569, 4, 2, england...  \n",
            "8336  [lóde, òní, àwọn, ọba, ló, ń, fi, obìnrin, joy...  \n",
            "5204  [eyi, mu, ki, apapo, iye, awon, isele, ti, won...  \n",
            "4632  [gege, bi, ipinle, re, ninu, imo, ofin, ati, i...  \n",
            "9902  [ni, oṣu, kejila, ọgunjo, ọdun, 2020, o, ti, f...  \n",
            "\n",
            "Validation Data Sample:\n",
            "                                                 english  \\\n",
            "8648   the movie features artistes like omawumi 2face...   \n",
            "10792  apc candidate lawal mojisola lasbat won the el...   \n",
            "1650   that struggle led to the abdication of the hig...   \n",
            "9919   noureddine aman hassan born may 7 1943 is a bo...   \n",
            "12094  by tradition the olowu is selected by six king...   \n",
            "\n",
            "                                                  yoruba  \\\n",
            "8648   àwọn òṣèré bíi omawumi 2face idibia ni wọn fi ...   \n",
            "10792  oludije egbe apc lawal mojisola lasbat lo jawe...   \n",
            "1650   làlà kokofẹfẹ yìí ní ó jẹ kí ọba ademola ẹẹkej...   \n",
            "9919   noureddine aman hassan ti a bi ni ọjọ keje oṣu...   \n",
            "12094  ninu iṣẹṣe awọn afọbajẹ mẹfa lo maa n yan olow...   \n",
            "\n",
            "                                          english_tokens  \\\n",
            "8648   [the, movie, features, artistes, like, omawumi...   \n",
            "10792  [apc, candidate, lawal, mojisola, lasbat, won,...   \n",
            "1650   [that, struggle, led, to, the, abdication, of,...   \n",
            "9919   [noureddine, aman, hassan, born, may, 7, 1943,...   \n",
            "12094  [by, tradition, the, olowu, is, selected, by, ...   \n",
            "\n",
            "                                           yoruba_tokens  \n",
            "8648   [àwọn, òṣèré, bíi, omawumi, 2face, idibia, ni,...  \n",
            "10792  [oludije, egbe, apc, lawal, mojisola, lasbat, ...  \n",
            "1650   [làlà, kokofẹfẹ, yìí, ní, ó, jẹ, kí, ọba, adem...  \n",
            "9919   [noureddine, aman, hassan, ti, a, bi, ni, ọjọ,...  \n",
            "12094  [ninu, iṣẹṣe, awọn, afọbajẹ, mẹfa, lo, maa, n,...  \n"
          ]
        }
      ]
    },
    {
      "cell_type": "code",
      "source": [
        "# Save preprocessed data for model training\n",
        "train_df.to_csv('train_tts_data.csv', index=False)\n",
        "val_df.to_csv('val_tts_data.csv', index=False)"
      ],
      "metadata": {
        "id": "b59msd4sQuBE"
      },
      "execution_count": 18,
      "outputs": []
    },
    {
      "cell_type": "markdown",
      "source": [],
      "metadata": {
        "id": "qFWbxyi5O1xZ"
      }
    }
  ]
}